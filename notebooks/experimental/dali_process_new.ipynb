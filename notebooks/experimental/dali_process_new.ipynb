{
 "cells": [
  {
   "cell_type": "markdown",
   "metadata": {},
   "source": [
    "# Process new strax data on dali"
   ]
  },
  {
   "cell_type": "code",
   "execution_count": 1,
   "metadata": {},
   "outputs": [
    {
     "name": "stdout",
     "output_type": "stream",
     "text": [
      "Active python: /home/aalbers/miniconda3/envs/py36/bin/python\n"
     ]
    }
   ],
   "source": [
    "%run ~/common_init.py"
   ]
  },
  {
   "cell_type": "markdown",
   "metadata": {},
   "source": [
    "### Select runs"
   ]
  },
  {
   "cell_type": "code",
   "execution_count": 144,
   "metadata": {},
   "outputs": [
    {
     "name": "stderr",
     "output_type": "stream",
     "text": [
      "Fetching run info from MongoDB: 100%|██████████| 27083/27083 [00:01<00:00, 13943.96it/s]\n",
      "Checking data availability: 100%|██████████| 1/1 [00:04<00:00,  4.05s/it]\n"
     ]
    }
   ],
   "source": [
    "# Start from all XENON1T runs\n",
    "import strax\n",
    "import straxen\n",
    "\n",
    "db_context = straxen.contexts.xenon1t_analysis(\n",
    "    # No S3. Just datasets available on dali\n",
    "    local_only=True)\n",
    "db_context.context_config['check_available'] = ('raw_records',)\n",
    "db_context.storage = db_context.storage[:1]   # Just the run db\n",
    "rundb_runs = db_context.select_runs(available='raw_records')"
   ]
  },
  {
   "cell_type": "code",
   "execution_count": 194,
   "metadata": {},
   "outputs": [
    {
     "data": {
      "text/plain": [
       "Counter({'_sciencerun1_candidate': 1, '_sciencerun1': 1})"
      ]
     },
     "execution_count": 194,
     "metadata": {},
     "output_type": "execute_result"
    }
   ],
   "source": [
    "runs = db_context.select_runs(\n",
    "    #run_mode='kr83m_*', \n",
    "    run_mode='ambe*',\n",
    "    available='raw_records',\n",
    "    include_tags='sciencerun1', \n",
    "    exclude_tags='?ource*'\n",
    ")\n",
    "runs['livetime'] = (runs['end'] - runs['start']).values.astype(np.int64) / 1e9\n",
    "runs['event_rate'] = runs['trigger.events_built'].values / runs['livetime'].values\n",
    "runs = runs[runs['event_rate'] > 10]\n",
    "#runs = runs.iloc[::10].copy()\n",
    "strax.count_tags(runs)"
   ]
  },
  {
   "cell_type": "code",
   "execution_count": 195,
   "metadata": {},
   "outputs": [
    {
     "data": {
      "text/html": [
       "<div>\n",
       "<style scoped>\n",
       "    .dataframe tbody tr th:only-of-type {\n",
       "        vertical-align: middle;\n",
       "    }\n",
       "\n",
       "    .dataframe tbody tr th {\n",
       "        vertical-align: top;\n",
       "    }\n",
       "\n",
       "    .dataframe thead th {\n",
       "        text-align: right;\n",
       "    }\n",
       "</style>\n",
       "<table border=\"1\" class=\"dataframe\">\n",
       "  <thead>\n",
       "    <tr style=\"text-align: right;\">\n",
       "      <th></th>\n",
       "      <th>end</th>\n",
       "      <th>mode</th>\n",
       "      <th>name</th>\n",
       "      <th>number</th>\n",
       "      <th>reader.ini.name</th>\n",
       "      <th>start</th>\n",
       "      <th>tags</th>\n",
       "      <th>trigger.events_built</th>\n",
       "      <th>raw_records_available</th>\n",
       "      <th>livetime</th>\n",
       "      <th>event_rate</th>\n",
       "    </tr>\n",
       "  </thead>\n",
       "  <tbody>\n",
       "    <tr>\n",
       "      <th>9229</th>\n",
       "      <td>2017-03-27 12:50:03</td>\n",
       "      <td>ambe_stable</td>\n",
       "      <td>170327_1149</td>\n",
       "      <td>8231</td>\n",
       "      <td>ambe_stable</td>\n",
       "      <td>2017-03-27 11:50:00</td>\n",
       "      <td>_sciencerun1_candidate,_sciencerun1</td>\n",
       "      <td>44561.0</td>\n",
       "      <td>True</td>\n",
       "      <td>3603.0</td>\n",
       "      <td>12.367749</td>\n",
       "    </tr>\n",
       "  </tbody>\n",
       "</table>\n",
       "</div>"
      ],
      "text/plain": [
       "                     end         mode         name  number reader.ini.name  \\\n",
       "9229 2017-03-27 12:50:03  ambe_stable  170327_1149    8231     ambe_stable   \n",
       "\n",
       "                   start                                 tags  \\\n",
       "9229 2017-03-27 11:50:00  _sciencerun1_candidate,_sciencerun1   \n",
       "\n",
       "      trigger.events_built  raw_records_available  livetime  event_rate  \n",
       "9229               44561.0                   True    3603.0   12.367749  "
      ]
     },
     "execution_count": 195,
     "metadata": {},
     "output_type": "execute_result"
    }
   ],
   "source": [
    "runs"
   ]
  },
  {
   "cell_type": "code",
   "execution_count": 196,
   "metadata": {},
   "outputs": [],
   "source": [
    "# Check explicitly that they are available on dali\n",
    "chris_dali_context = strax.Context(\n",
    "    storage=strax.DataDirectory('/dali/lgrandi/tunnell/strax_data/',\n",
    "                                readonly=True),\n",
    "    register=straxen.RecordsFromPax,\n",
    "    **straxen.contexts.common_opts)\n",
    "\n",
    "runs['dali_available'] = [chris_dali_context.is_stored(run_id, 'raw_records')\n",
    "                          for run_id in runs['name'].values]"
   ]
  },
  {
   "cell_type": "code",
   "execution_count": 197,
   "metadata": {},
   "outputs": [],
   "source": [
    "assert len(runs) == runs['dali_available'].sum()"
   ]
  },
  {
   "cell_type": "markdown",
   "metadata": {},
   "source": [
    "### Copy run documents and link raw data"
   ]
  },
  {
   "cell_type": "code",
   "execution_count": 198,
   "metadata": {},
   "outputs": [],
   "source": [
    "jelle_dali_context = strax.Context(\n",
    "    storage=strax.DataDirectory('/dali/lgrandi/aalbers/strax_data/'),\n",
    "    register=straxen.RecordsFromPax,\n",
    "    **straxen.contexts.common_opts)\n",
    "\n",
    "jelle_raw_context = strax.Context(\n",
    "    storage=strax.DataDirectory('/dali/lgrandi/aalbers/strax_data_raw/'),\n",
    "    register=straxen.RecordsFromPax,\n",
    "    **straxen.contexts.common_opts)\n",
    "\n",
    "def link_data(run_id):\n",
    "    # Copy run metadata \n",
    "    rd = db_context.run_metadata(run_id)\n",
    "    del rd['data']\n",
    "    del rd['_id']\n",
    "    jelle_raw_context.storage[0].write_run_metadata(run_id, rd)\n",
    "    \n",
    "    # Link dali raw data\n",
    "    new_parent_path = jelle_dali_context.storage[0].path\n",
    "    path = chris_dali_context.storage[0].find(chris_dali_context.key_for(run_id, 'raw_records'))[1]\n",
    "    basename = osp.basename(path)\n",
    "    !ln -s $path $new_parent_path/$basename"
   ]
  },
  {
   "cell_type": "code",
   "execution_count": 199,
   "metadata": {},
   "outputs": [],
   "source": [
    "for x in runs['name'].values:\n",
    "    link_data(x)"
   ]
  },
  {
   "cell_type": "markdown",
   "metadata": {},
   "source": [
    "### Start processing jobs"
   ]
  },
  {
   "cell_type": "code",
   "execution_count": 200,
   "metadata": {},
   "outputs": [],
   "source": [
    "folder = '/dali/lgrandi/aalbers/reprocess'\n",
    "\n",
    "# Consumes 2 GB on average when run on the login node\n",
    "# So 4 GB should be a reasonable threshold\n",
    "# and 6 GB is even more robust\n",
    "process_launcher = \"\"\"#!/bin/bash\n",
    "#SBATCH --partition dali\n",
    "#SBATCH --qos dali\n",
    "#SBATCH --account=pi-lgrandi\n",
    "#SBATCH --ntasks=1\n",
    "#SBATCH --output={folder}/job_logs/{run_name}_stdout.txt\n",
    "#SBATCH --error={folder}/job_logs/{run_name}_stderr.txt\n",
    "#SBATCH --cpus-per-task=1\n",
    "#SBATCH --mem-per-cpu=6000\n",
    "echo Processing job started\n",
    "eval \"$(/home/aalbers/miniconda3/bin/conda shell.bash hook)\"\n",
    "conda activate py36\n",
    "export PATH=/home/aalbers/miniconda3/envs/py36/bin:$PATH\n",
    "echo Environment activated\n",
    "cd {folder}\n",
    "straxer {run_name}\n",
    "echo Processing job terminated\n",
    "\"\"\"\n",
    "\n",
    "os.makedirs(osp.join(folder, 'job_logs'), exist_ok=True)\n",
    "\n",
    "def write_script(fn, script, **kwargs):\n",
    "    with open(fn, mode='w') as f:\n",
    "        content = script.format(**kwargs)\n",
    "        f.write(content)\n",
    "    make_executable(fn)\n",
    "\n",
    "def make_executable(path):\n",
    "    \"\"\"Make the file at path executable, see \"\"\"\n",
    "    mode = os.stat(path).st_mode\n",
    "    mode |= (mode & 0o444) >> 2    # copy R bits to X\n",
    "    os.chmod(path, mode)\n",
    "    "
   ]
  },
  {
   "cell_type": "code",
   "execution_count": 201,
   "metadata": {},
   "outputs": [
    {
     "name": "stdout",
     "output_type": "stream",
     "text": [
      "Starting job for 170327_1149\n",
      "Submitted batch job 61097284\n"
     ]
    }
   ],
   "source": [
    "skip = []\n",
    "script_folder = osp.join(folder, 'scripts')\n",
    "os.makedirs(script_folder, exist_ok=True)\n",
    "\n",
    "for run_name in runs['name']:\n",
    "    if run_name in skip:\n",
    "        continue\n",
    "\n",
    "    fn = osp.join(script_folder, f'process_{run_name}.sh')\n",
    "    write_script(fn, process_launcher, folder=folder, run_name=run_name)\n",
    "    \n",
    "    print(f\"Starting job for {run_name}\")\n",
    "    !sbatch $fn"
   ]
  },
  {
   "cell_type": "markdown",
   "metadata": {},
   "source": [
    "# Check"
   ]
  },
  {
   "cell_type": "code",
   "execution_count": 215,
   "metadata": {},
   "outputs": [],
   "source": [
    "path = folder + '/strax_data'\n",
    "st = strax.Context(storage=path,\n",
    "                   register=straxen.RecordsFromPax,\n",
    "                   **straxen.contexts.common_opts)"
   ]
  },
  {
   "cell_type": "code",
   "execution_count": 234,
   "metadata": {},
   "outputs": [
    {
     "data": {
      "text/plain": [
       "16"
      ]
     },
     "execution_count": 234,
     "metadata": {},
     "output_type": "execute_result"
    }
   ],
   "source": [
    "sf = st.storage[0]\n",
    "found = set()\n",
    "for f in sf._subfolders():\n",
    "    run_id, dtype, lhash = sf._parse_folder_name(f)\n",
    "    found.add(run_id)\n",
    "len(found)"
   ]
  },
  {
   "cell_type": "code",
   "execution_count": 235,
   "metadata": {},
   "outputs": [
    {
     "data": {
      "text/plain": [
       "16"
      ]
     },
     "execution_count": 235,
     "metadata": {},
     "output_type": "execute_result"
    }
   ],
   "source": [
    "available = st.list_available('event_info')\n",
    "len(available)"
   ]
  }
 ],
 "metadata": {
  "kernelspec": {
   "display_name": "Python [default]",
   "language": "python",
   "name": "python3"
  },
  "language_info": {
   "codemirror_mode": {
    "name": "ipython",
    "version": 3
   },
   "file_extension": ".py",
   "mimetype": "text/x-python",
   "name": "python",
   "nbconvert_exporter": "python",
   "pygments_lexer": "ipython3",
   "version": "3.6.8"
  }
 },
 "nbformat": 4,
 "nbformat_minor": 2
}
