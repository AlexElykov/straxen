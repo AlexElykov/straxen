{
 "cells": [
  {
   "cell_type": "markdown",
   "metadata": {},
   "source": [
    "# PMT Pulse analysis"
   ]
  },
  {
   "cell_type": "markdown",
   "metadata": {},
   "source": [
    "Jelle, updated May 2019"
   ]
  },
  {
   "cell_type": "markdown",
   "metadata": {},
   "source": [
    "Standard python setup:"
   ]
  },
  {
   "cell_type": "code",
   "execution_count": 1,
   "metadata": {},
   "outputs": [],
   "source": [
    "import numpy as np\n",
    "from tqdm import tqdm\n",
    "import matplotlib.pyplot as plt\n",
    "\n",
    "# This just ensures some comments in dataframes below display nicely\n",
    "import pandas as pd\n",
    "pd.options.display.max_colwidth = 100"
   ]
  },
  {
   "cell_type": "markdown",
   "metadata": {},
   "source": [
    "After this standard setup, we can load straxen:"
   ]
  },
  {
   "cell_type": "code",
   "execution_count": 2,
   "metadata": {},
   "outputs": [],
   "source": [
    "import straxen\n",
    "st = straxen.contexts.strax_workshop_dali()"
   ]
  },
  {
   "cell_type": "markdown",
   "metadata": {},
   "source": [
    "Let's select a background run from SR1 for which we have strax data."
   ]
  },
  {
   "cell_type": "code",
   "execution_count": 3,
   "metadata": {},
   "outputs": [
    {
     "name": "stderr",
     "output_type": "stream",
     "text": [
      "Checking data availability: 100%|██████████| 5/5 [00:00<00:00, 307.10it/s]\n"
     ]
    },
    {
     "data": {
      "text/plain": [
       "'170621_0617'"
      ]
     },
     "execution_count": 3,
     "metadata": {},
     "output_type": "execute_result"
    }
   ],
   "source": [
    "dsets = st.select_runs(available='raw_records', \n",
    "                       include_tags='sciencerun1',\n",
    "                       run_mode='background_stable')\n",
    "run_id = dsets.name.min()\n",
    "run_id"
   ]
  },
  {
   "cell_type": "markdown",
   "metadata": {},
   "source": [
    "This run is one hour long, so the full raw waveform data won't fit into memory. Let's instead load only the first 30 seconds:"
   ]
  },
  {
   "cell_type": "code",
   "execution_count": 4,
   "metadata": {},
   "outputs": [
    {
     "name": "stderr",
     "output_type": "stream",
     "text": [
      "Not saving raw_records while selecting a time range in the run\n"
     ]
    }
   ],
   "source": [
    "rr = st.get_array(run_id, 'raw_records', seconds_range=(0, 30))"
   ]
  },
  {
   "cell_type": "markdown",
   "metadata": {},
   "source": [
    "The `rr` object is a numpy record array. This works almost like a pandas dataframe, in particular, you can use the same syntax you're used to from dataframes for selections.\n",
    "\n",
    "Here are the fields you can access:"
   ]
  },
  {
   "cell_type": "code",
   "execution_count": 5,
   "metadata": {},
   "outputs": [
    {
     "data": {
      "text/html": [
       "<div>\n",
       "<style scoped>\n",
       "    .dataframe tbody tr th:only-of-type {\n",
       "        vertical-align: middle;\n",
       "    }\n",
       "\n",
       "    .dataframe tbody tr th {\n",
       "        vertical-align: top;\n",
       "    }\n",
       "\n",
       "    .dataframe thead th {\n",
       "        text-align: right;\n",
       "    }\n",
       "</style>\n",
       "<table border=\"1\" class=\"dataframe\">\n",
       "  <thead>\n",
       "    <tr style=\"text-align: right;\">\n",
       "      <th></th>\n",
       "      <th>Field name</th>\n",
       "      <th>Data type</th>\n",
       "      <th>Comment</th>\n",
       "    </tr>\n",
       "  </thead>\n",
       "  <tbody>\n",
       "    <tr>\n",
       "      <th>0</th>\n",
       "      <td>channel</td>\n",
       "      <td>int16</td>\n",
       "      <td>Channel/PMT number</td>\n",
       "    </tr>\n",
       "    <tr>\n",
       "      <th>1</th>\n",
       "      <td>dt</td>\n",
       "      <td>int16</td>\n",
       "      <td>Time resolution in ns</td>\n",
       "    </tr>\n",
       "    <tr>\n",
       "      <th>2</th>\n",
       "      <td>time</td>\n",
       "      <td>int64</td>\n",
       "      <td>Start time of the interval (ns since unix epoch)</td>\n",
       "    </tr>\n",
       "    <tr>\n",
       "      <th>3</th>\n",
       "      <td>length</td>\n",
       "      <td>int32</td>\n",
       "      <td>Length of the interval in samples</td>\n",
       "    </tr>\n",
       "    <tr>\n",
       "      <th>4</th>\n",
       "      <td>area</td>\n",
       "      <td>int32</td>\n",
       "      <td>Integral in ADC x samples</td>\n",
       "    </tr>\n",
       "    <tr>\n",
       "      <th>5</th>\n",
       "      <td>pulse_length</td>\n",
       "      <td>int32</td>\n",
       "      <td>Length of pulse to which the record belongs (without zero-padding)</td>\n",
       "    </tr>\n",
       "    <tr>\n",
       "      <th>6</th>\n",
       "      <td>record_i</td>\n",
       "      <td>int16</td>\n",
       "      <td>Fragment number in the pulse</td>\n",
       "    </tr>\n",
       "    <tr>\n",
       "      <th>7</th>\n",
       "      <td>baseline</td>\n",
       "      <td>float32</td>\n",
       "      <td>Baseline in ADC counts. data = int(baseline) - data_orig</td>\n",
       "    </tr>\n",
       "    <tr>\n",
       "      <th>8</th>\n",
       "      <td>reduction_level</td>\n",
       "      <td>uint8</td>\n",
       "      <td>Level of data reduction applied (strax.ReductionLevel enum)</td>\n",
       "    </tr>\n",
       "    <tr>\n",
       "      <th>9</th>\n",
       "      <td>data</td>\n",
       "      <td>('&lt;i2', (110,))</td>\n",
       "      <td>Waveform data in ADC counts above baseline</td>\n",
       "    </tr>\n",
       "  </tbody>\n",
       "</table>\n",
       "</div>"
      ],
      "text/plain": [
       "        Field name        Data type  \\\n",
       "0          channel            int16   \n",
       "1               dt            int16   \n",
       "2             time            int64   \n",
       "3           length            int32   \n",
       "4             area            int32   \n",
       "5     pulse_length            int32   \n",
       "6         record_i            int16   \n",
       "7         baseline          float32   \n",
       "8  reduction_level            uint8   \n",
       "9             data  ('<i2', (110,))   \n",
       "\n",
       "                                                              Comment  \n",
       "0                                                  Channel/PMT number  \n",
       "1                                               Time resolution in ns  \n",
       "2                    Start time of the interval (ns since unix epoch)  \n",
       "3                                   Length of the interval in samples  \n",
       "4                                           Integral in ADC x samples  \n",
       "5  Length of pulse to which the record belongs (without zero-padding)  \n",
       "6                                        Fragment number in the pulse  \n",
       "7            Baseline in ADC counts. data = int(baseline) - data_orig  \n",
       "8         Level of data reduction applied (strax.ReductionLevel enum)  \n",
       "9                          Waveform data in ADC counts above baseline  "
      ]
     },
     "execution_count": 5,
     "metadata": {},
     "output_type": "execute_result"
    }
   ],
   "source": [
    "st.data_info('raw_records')"
   ]
  },
  {
   "cell_type": "markdown",
   "metadata": {},
   "source": [
    "You now have a matrix (record_i, sample_j) of waveforms in rr['data']:"
   ]
  },
  {
   "cell_type": "code",
   "execution_count": 6,
   "metadata": {},
   "outputs": [
    {
     "data": {
      "text/plain": [
       "(2815584, 110)"
      ]
     },
     "execution_count": 6,
     "metadata": {},
     "output_type": "execute_result"
    }
   ],
   "source": [
    "rr['data'].shape"
   ]
  },
  {
   "cell_type": "markdown",
   "metadata": {},
   "source": [
    "Let's select only records that belong to short PMT pulses. These are mostly lone PMT hits. Longer pulses are likely part of S1s or S2s."
   ]
  },
  {
   "cell_type": "code",
   "execution_count": 7,
   "metadata": {},
   "outputs": [],
   "source": [
    "rr = rr[rr['pulse_length'] < 110]"
   ]
  },
  {
   "cell_type": "markdown",
   "metadata": {},
   "source": [
    "Here's one record:"
   ]
  },
  {
   "cell_type": "code",
   "execution_count": 8,
   "metadata": {},
   "outputs": [
    {
     "data": {
      "text/plain": [
       "Text(0, 0.5, 'Amplitude (ADCc)')"
      ]
     },
     "execution_count": 8,
     "metadata": {},
     "output_type": "execute_result"
    },
    {
     "data": {
      "image/png": "[encoded data removed]",
      "text/plain": [
       "<Figure size 432x288 with 1 Axes>"
      ]
     },
     "metadata": {},
     "output_type": "display_data"
    }
   ],
   "source": [
    "plt.plot(rr['data'][0], linestyle='steps-mid')\n",
    "plt.xlabel(\"Sample number\")\n",
    "plt.ylabel(\"Amplitude (ADCc)\")"
   ]
  },
  {
   "cell_type": "markdown",
   "metadata": {},
   "source": [
    "As you can see, this record contains a single PE pulse. The baseline is already subtracted (and the pulse has been flipped), but no other operations have been done on it. Each record is 110 samples long, but this digitizer pulse was only 102 samples long:"
   ]
  },
  {
   "cell_type": "code",
   "execution_count": 9,
   "metadata": {},
   "outputs": [
    {
     "data": {
      "text/plain": [
       "102"
      ]
     },
     "execution_count": 9,
     "metadata": {},
     "output_type": "execute_result"
    }
   ],
   "source": [
    "rr['pulse_length'][0]"
   ]
  },
  {
   "cell_type": "markdown",
   "metadata": {},
   "source": [
    "and thus the pulse has been zero-padded, as you can see at the highest sample numbers in the plot above."
   ]
  },
  {
   "cell_type": "markdown",
   "metadata": {},
   "source": [
    "Let's focus on channel 100 for now:"
   ]
  },
  {
   "cell_type": "code",
   "execution_count": 10,
   "metadata": {},
   "outputs": [],
   "source": [
    "r = rr[rr['channel'] == 100]"
   ]
  },
  {
   "cell_type": "markdown",
   "metadata": {},
   "source": [
    "## Pulse shape"
   ]
  },
  {
   "cell_type": "markdown",
   "metadata": {},
   "source": [
    "Here is the distribution of amplitudes in each sample. This is very roughly the mean pulse shape:"
   ]
  },
  {
   "cell_type": "code",
   "execution_count": 11,
   "metadata": {},
   "outputs": [
    {
     "data": {
      "text/plain": [
       "Text(0, 0.5, 'Amplitude (ADCc)')"
      ]
     },
     "execution_count": 11,
     "metadata": {},
     "output_type": "execute_result"
    },
    {
     "data": {
      "image/png": "[encoded data removed]",
      "text/plain": [
       "<Figure size 432x288 with 1 Axes>"
      ]
     },
     "metadata": {},
     "output_type": "display_data"
    }
   ],
   "source": [
    "ns = np.arange(len(r['data'][0]))\n",
    "plt.plot(ns, r['data'].mean(axis=0), linestyle='steps-mid')\n",
    "plt.fill_between(\n",
    "    ns,\n",
    "    np.percentile(r['data'], 25, axis=0),\n",
    "    np.percentile(r['data'], 75, axis=0), \n",
    "    step='mid', alpha=0.3, linewidth=0)\n",
    "plt.xlabel(\"Sample in record\")\n",
    "plt.ylabel(\"Amplitude (ADCc)\")"
   ]
  },
  {
   "cell_type": "markdown",
   "metadata": {},
   "source": [
    "You can clearly see we're dealing with single PEs here, and also see the infamous long PE pulse tail. For a serious pulse shape study you should of course first normalize the pulses."
   ]
  },
  {
   "cell_type": "markdown",
   "metadata": {},
   "source": [
    "## Gain calibration"
   ]
  },
  {
   "cell_type": "markdown",
   "metadata": {},
   "source": [
    "Let's integrate between sample 40 and 70, to get the mean single-PE area. We have to add a small correction for the baseline, see [here](https://github.com/AxFoundation/strax/issues/2) for details. Usually this is done inside strax and you don't have to worry about it."
   ]
  },
  {
   "cell_type": "code",
   "execution_count": 12,
   "metadata": {},
   "outputs": [
    {
     "data": {
      "text/plain": [
       "<matplotlib.lines.Line2D at 0x7f392405de80>"
      ]
     },
     "execution_count": 12,
     "metadata": {},
     "output_type": "execute_result"
    },
    {
     "data": {
      "image/png": "[encoded data removed]",
      "text/plain": [
       "<Figure size 432x288 with 1 Axes>"
      ]
     },
     "metadata": {},
     "output_type": "display_data"
    }
   ],
   "source": [
    "left, right = 40, 70\n",
    "areas = r['data'][:,left:right].sum(axis=1)\n",
    "\n",
    "# Small correction for baseline, see strax issue #2\n",
    "areas += ((r['baseline'] % 1) * (right - left)).round().astype(np.int)\n",
    "\n",
    "plt.hist(areas, bins=100)\n",
    "plt.xlabel(\"Area (ADCc)\")\n",
    "plt.ylabel(\"Counts\")\n",
    "plt.axvline(1/straxen.to_pe[100], color='r', linestyle='--')\n",
    "plt.axvline(np.median(areas), color='purple', linestyle='--')"
   ]
  },
  {
   "cell_type": "markdown",
   "metadata": {},
   "source": [
    "The purple line is an extremely bad gain estimate (the median area) of pulses, which nonetheless comes close for this PMT. It should be obvious this is a bad method: it takes no account of 2PE hits or the hitfinder efficiency at all.\n",
    "\n",
    "The red line indicates where the 1 PE area should be according to the XENON1T gain calibration. Looks like the gain is, at least approximately, correct!\n",
    "\n",
    "Let's do the same for all PMTs:"
   ]
  },
  {
   "cell_type": "code",
   "execution_count": 13,
   "metadata": {},
   "outputs": [
    {
     "name": "stderr",
     "output_type": "stream",
     "text": [
      " 13%|█▎        | 32/248 [00:00<00:06, 35.52it/s]/home/aalbers/miniconda3/envs/py36/lib/python3.6/site-packages/numpy/core/fromnumeric.py:3118: RuntimeWarning: Mean of empty slice.\n",
      "  out=out, **kwargs)\n",
      "/home/aalbers/miniconda3/envs/py36/lib/python3.6/site-packages/numpy/core/_methods.py:85: RuntimeWarning: invalid value encountered in double_scalars\n",
      "  ret = ret.dtype.type(ret / rcount)\n",
      "100%|██████████| 248/248 [00:08<00:00, 29.64it/s]\n"
     ]
    }
   ],
   "source": [
    "areas = rr['data'][:,40:70].sum(axis=1)\n",
    "channels = rr['channel']\n",
    "\n",
    "gain_ests = np.array([\n",
    "    np.median(areas[channels == pmt]) \n",
    "    for pmt in tqdm(np.arange(248))])"
   ]
  },
  {
   "cell_type": "code",
   "execution_count": 14,
   "metadata": {},
   "outputs": [
    {
     "name": "stderr",
     "output_type": "stream",
     "text": [
      "/home/aalbers/miniconda3/envs/py36/lib/python3.6/site-packages/ipykernel/__main__.py:1: RuntimeWarning: divide by zero encountered in true_divide\n",
      "  if __name__ == '__main__':\n"
     ]
    },
    {
     "data": {
      "image/png": "[encoded data removed]",
      "text/plain": [
       "<Figure size 432x288 with 1 Axes>"
      ]
     },
     "metadata": {},
     "output_type": "display_data"
    }
   ],
   "source": [
    "plt.scatter(1/straxen.to_pe[:248], gain_ests, s=2)\n",
    "plt.plot([0, 300], [0, 300], c='k', alpha=0.2)\n",
    "plt.xlabel(\"XENON1T gain calibration (ADCc)\")\n",
    "plt.ylabel(\"Median short pulse area (ADCc)\")\n",
    "plt.title(\"Pulse areas in ADCc for each PMT\")\n",
    "plt.gca().set_aspect('equal')"
   ]
  },
  {
   "cell_type": "markdown",
   "metadata": {},
   "source": [
    "As you can see, even this extremely basic method (median area of short pulses in 30sec of background data) gives a somewhat plausible gain estimate for most PMTs."
   ]
  }
 ],
 "metadata": {
  "kernelspec": {
   "display_name": "Python [default]",
   "language": "python",
   "name": "python3"
  },
  "language_info": {
   "codemirror_mode": {
    "name": "ipython",
    "version": 3
   },
   "file_extension": ".py",
   "mimetype": "text/x-python",
   "name": "python",
   "nbconvert_exporter": "python",
   "pygments_lexer": "ipython3",
   "version": "3.6.8"
  }
 },
 "nbformat": 4,
 "nbformat_minor": 2
}
