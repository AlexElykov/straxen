{
 "cells": [
  {
   "cell_type": "markdown",
   "metadata": {},
   "source": [
    "# Run selection demonstration"
   ]
  },
  {
   "cell_type": "markdown",
   "metadata": {},
   "source": [
    "Jelle, updated May 2019"
   ]
  },
  {
   "cell_type": "markdown",
   "metadata": {},
   "source": [
    "Run selection in strax is relatively simple. Let's start with setting up a basic XENON1T analysis:"
   ]
  },
  {
   "cell_type": "code",
   "execution_count": 1,
   "metadata": {},
   "outputs": [],
   "source": [
    "import strax\n",
    "import straxen\n",
    "\n",
    "st = straxen.contexts.xenon1t_analysis()"
   ]
  },
  {
   "cell_type": "markdown",
   "metadata": {},
   "source": [
    "### 1. Basic selections"
   ]
  },
  {
   "cell_type": "markdown",
   "metadata": {},
   "source": [
    "Suppose we want to select runs that satisfy all of these criteria:\n",
    "  * Have a tag called `sciencerun1` (or `_sciencerun1`, we ignore leading underscores)\n",
    "  * Do NOT have tags `afterNG` or `AfterNG`, indicating the run was shortly after a neutron generator. \n",
    "  * Have `raw_records` accessible.\n",
    "  * Have a run mode that starts with `background` (e.g. `background_stable` and `background_triggerless`)\n",
    "  \n",
    "Here's how you would do that:"
   ]
  },
  {
   "cell_type": "code",
   "execution_count": 2,
   "metadata": {},
   "outputs": [
    {
     "name": "stderr",
     "output_type": "stream",
     "text": [
      "Fetching run info from MongoDB: 100%|██████████| 26386/26386 [00:03<00:00, 8424.55it/s]\n",
      "Checking data availability: 100%|██████████| 5/5 [00:02<00:00,  2.27it/s]\n"
     ]
    },
    {
     "data": {
      "text/plain": [
       "2228"
      ]
     },
     "execution_count": 2,
     "metadata": {},
     "output_type": "execute_result"
    }
   ],
   "source": [
    "dsets = st.select_runs(include_tags='sciencerun1', \n",
    "                       exclude_tags='?fterNG',\n",
    "                       available='raw_records', \n",
    "                       run_mode='background*')\n",
    "len(dsets)"
   ]
  },
  {
   "cell_type": "markdown",
   "metadata": {},
   "source": [
    "The first time you run the cell above, it took a few seconds to fetch some information from the XENON runs db. If you run it again, or if you run some other selection, it won't have to (try it), and should return almost instantly.\n",
    "\n",
    "The results are returned as a dataframe:"
   ]
  },
  {
   "cell_type": "code",
   "execution_count": 3,
   "metadata": {},
   "outputs": [
    {
     "data": {
      "text/html": [
       "<div>\n",
       "<style scoped>\n",
       "    .dataframe tbody tr th:only-of-type {\n",
       "        vertical-align: middle;\n",
       "    }\n",
       "\n",
       "    .dataframe tbody tr th {\n",
       "        vertical-align: top;\n",
       "    }\n",
       "\n",
       "    .dataframe thead th {\n",
       "        text-align: right;\n",
       "    }\n",
       "</style>\n",
       "<table border=\"1\" class=\"dataframe\">\n",
       "  <thead>\n",
       "    <tr style=\"text-align: right;\">\n",
       "      <th></th>\n",
       "      <th>end</th>\n",
       "      <th>mode</th>\n",
       "      <th>name</th>\n",
       "      <th>number</th>\n",
       "      <th>reader.ini.name</th>\n",
       "      <th>start</th>\n",
       "      <th>tags</th>\n",
       "      <th>trigger.events_built</th>\n",
       "      <th>event_info_available</th>\n",
       "      <th>peaks_available</th>\n",
       "      <th>raw_records_available</th>\n",
       "      <th>records_available</th>\n",
       "      <th>events_available</th>\n",
       "    </tr>\n",
       "  </thead>\n",
       "  <tbody>\n",
       "    <tr>\n",
       "      <th>7967</th>\n",
       "      <td>2017-02-15 17:57:31</td>\n",
       "      <td>background_stable</td>\n",
       "      <td>170215_1657</td>\n",
       "      <td>7144</td>\n",
       "      <td>background_stable</td>\n",
       "      <td>2017-02-15 16:57:28</td>\n",
       "      <td>blinded,_sciencerun1_candidate,_sciencerun1</td>\n",
       "      <td>22124.0</td>\n",
       "      <td>False</td>\n",
       "      <td>False</td>\n",
       "      <td>True</td>\n",
       "      <td>False</td>\n",
       "      <td>False</td>\n",
       "    </tr>\n",
       "    <tr>\n",
       "      <th>8070</th>\n",
       "      <td>2017-02-19 05:54:18</td>\n",
       "      <td>background_stable</td>\n",
       "      <td>170219_0454</td>\n",
       "      <td>7235</td>\n",
       "      <td>background_stable</td>\n",
       "      <td>2017-02-19 04:54:14</td>\n",
       "      <td>blinded,_sciencerun1_candidate,_sciencerun1</td>\n",
       "      <td>21808.0</td>\n",
       "      <td>False</td>\n",
       "      <td>False</td>\n",
       "      <td>True</td>\n",
       "      <td>False</td>\n",
       "      <td>False</td>\n",
       "    </tr>\n",
       "    <tr>\n",
       "      <th>8083</th>\n",
       "      <td>2017-02-19 16:56:33</td>\n",
       "      <td>background_stable</td>\n",
       "      <td>170219_1556</td>\n",
       "      <td>7246</td>\n",
       "      <td>background_stable</td>\n",
       "      <td>2017-02-19 15:56:30</td>\n",
       "      <td>blinded,_sciencerun1_candidate,_sciencerun1</td>\n",
       "      <td>22321.0</td>\n",
       "      <td>False</td>\n",
       "      <td>False</td>\n",
       "      <td>True</td>\n",
       "      <td>False</td>\n",
       "      <td>False</td>\n",
       "    </tr>\n",
       "    <tr>\n",
       "      <th>8765</th>\n",
       "      <td>2017-03-13 09:25:19</td>\n",
       "      <td>background_stable</td>\n",
       "      <td>170313_0844</td>\n",
       "      <td>7835</td>\n",
       "      <td>background_stable</td>\n",
       "      <td>2017-03-13 08:44:06</td>\n",
       "      <td>blinded,_sciencerun1_candidate,_sciencerun1</td>\n",
       "      <td>15106.0</td>\n",
       "      <td>False</td>\n",
       "      <td>False</td>\n",
       "      <td>True</td>\n",
       "      <td>False</td>\n",
       "      <td>False</td>\n",
       "    </tr>\n",
       "    <tr>\n",
       "      <th>9361</th>\n",
       "      <td>2017-03-31 11:33:34</td>\n",
       "      <td>background_stable</td>\n",
       "      <td>170331_1033</td>\n",
       "      <td>8340</td>\n",
       "      <td>background_stable</td>\n",
       "      <td>2017-03-31 10:33:31</td>\n",
       "      <td>blinded,_sciencerun1_candidate,_sciencerun1</td>\n",
       "      <td>22033.0</td>\n",
       "      <td>False</td>\n",
       "      <td>False</td>\n",
       "      <td>True</td>\n",
       "      <td>False</td>\n",
       "      <td>False</td>\n",
       "    </tr>\n",
       "  </tbody>\n",
       "</table>\n",
       "</div>"
      ],
      "text/plain": [
       "                      end               mode         name  number  \\\n",
       "7967  2017-02-15 17:57:31  background_stable  170215_1657    7144   \n",
       "8070  2017-02-19 05:54:18  background_stable  170219_0454    7235   \n",
       "8083  2017-02-19 16:56:33  background_stable  170219_1556    7246   \n",
       "8765  2017-03-13 09:25:19  background_stable  170313_0844    7835   \n",
       "9361  2017-03-31 11:33:34  background_stable  170331_1033    8340   \n",
       "\n",
       "        reader.ini.name                start  \\\n",
       "7967  background_stable  2017-02-15 16:57:28   \n",
       "8070  background_stable  2017-02-19 04:54:14   \n",
       "8083  background_stable  2017-02-19 15:56:30   \n",
       "8765  background_stable  2017-03-13 08:44:06   \n",
       "9361  background_stable  2017-03-31 10:33:31   \n",
       "\n",
       "                                             tags  trigger.events_built  \\\n",
       "7967  blinded,_sciencerun1_candidate,_sciencerun1               22124.0   \n",
       "8070  blinded,_sciencerun1_candidate,_sciencerun1               21808.0   \n",
       "8083  blinded,_sciencerun1_candidate,_sciencerun1               22321.0   \n",
       "8765  blinded,_sciencerun1_candidate,_sciencerun1               15106.0   \n",
       "9361  blinded,_sciencerun1_candidate,_sciencerun1               22033.0   \n",
       "\n",
       "      event_info_available  peaks_available  raw_records_available  \\\n",
       "7967                 False            False                   True   \n",
       "8070                 False            False                   True   \n",
       "8083                 False            False                   True   \n",
       "8765                 False            False                   True   \n",
       "9361                 False            False                   True   \n",
       "\n",
       "      records_available  events_available  \n",
       "7967              False             False  \n",
       "8070              False             False  \n",
       "8083              False             False  \n",
       "8765              False             False  \n",
       "9361              False             False  "
      ]
     },
     "execution_count": 3,
     "metadata": {},
     "output_type": "execute_result"
    }
   ],
   "source": [
    "dsets.head()"
   ]
  },
  {
   "cell_type": "markdown",
   "metadata": {},
   "source": [
    "In particular, the `name` field gives the `run_id` you feed to `st.get_data`."
   ]
  },
  {
   "cell_type": "markdown",
   "metadata": {},
   "source": [
    "### 2. The `dsets` dataframe, more refined selections"
   ]
  },
  {
   "cell_type": "markdown",
   "metadata": {},
   "source": [
    "The extra info in the `dsets` dataframe can be used for further selections, for example on the number of events or the start/stop times of the run."
   ]
  },
  {
   "cell_type": "code",
   "execution_count": 4,
   "metadata": {},
   "outputs": [
    {
     "data": {
      "text/plain": [
       "2202"
      ]
     },
     "execution_count": 4,
     "metadata": {},
     "output_type": "execute_result"
    }
   ],
   "source": [
    "dsets = dsets[dsets['trigger.events_built'] > 10000]\n",
    "len(dsets)"
   ]
  },
  {
   "cell_type": "markdown",
   "metadata": {},
   "source": [
    "You can also use it to get some quick statistics on the runs, such as the total uncorrected live-time:"
   ]
  },
  {
   "cell_type": "code",
   "execution_count": 5,
   "metadata": {},
   "outputs": [
    {
     "data": {
      "text/plain": [
       "Timedelta('91 days 17:25:02')"
      ]
     },
     "execution_count": 5,
     "metadata": {},
     "output_type": "execute_result"
    }
   ],
   "source": [
    "(dsets['end'] - dsets['start']).sum()"
   ]
  },
  {
   "cell_type": "markdown",
   "metadata": {},
   "source": [
    "You might also want to check all combinations of tags that occur in the selected datasets, to see if anything odd is selected. Straxen has a utility function for this:"
   ]
  },
  {
   "cell_type": "code",
   "execution_count": 6,
   "metadata": {},
   "outputs": [
    {
     "data": {
      "text/plain": [
       "Counter({'blinded': 753,\n",
       "         '_sciencerun1_candidate': 2202,\n",
       "         '_sciencerun1': 2202,\n",
       "         'MVoff': 2,\n",
       "         'sync_muon_veto': 5,\n",
       "         'wrongtime': 1,\n",
       "         'Blinded': 1,\n",
       "         'flash': 3,\n",
       "         'Flash': 48,\n",
       "         'readoutbug': 1,\n",
       "         'FlashTail': 1,\n",
       "         '': 2})"
      ]
     },
     "execution_count": 6,
     "metadata": {},
     "output_type": "execute_result"
    }
   ],
   "source": [
    "strax.count_tags(dsets)"
   ]
  },
  {
   "cell_type": "markdown",
   "metadata": {},
   "source": [
    "Hmm, maybe you want to add `wrongtime` to the list of excluded tags. Try it!"
   ]
  },
  {
   "cell_type": "markdown",
   "metadata": {},
   "source": [
    "### 3. Detailed run info and advanced selections"
   ]
  },
  {
   "cell_type": "markdown",
   "metadata": {},
   "source": [
    "If you want to get more detailed run information on a single run, you can use the `run_metadata` method to fetch the entire run document:"
   ]
  },
  {
   "cell_type": "code",
   "execution_count": 7,
   "metadata": {},
   "outputs": [
    {
     "name": "stdout",
     "output_type": "stream",
     "text": [
      "['_id', 'name', 'user', 'detector', 'number', 'start', 'data', 'reader', 'trigger', 'source', 'end', 'processor', 'tags', 'comments', 'quality', 'raw_size_byte']\n"
     ]
    }
   ],
   "source": [
    "doc = st.run_metadata('170202_1747')\n",
    "print(list(doc.keys()))"
   ]
  },
  {
   "cell_type": "markdown",
   "metadata": {},
   "source": [
    "Please do not use this in a loop over all runs, the runs database is almost 1 GB in size... This may become smaller in the future, if we decide to put chunk-level metadata somewhere else."
   ]
  },
  {
   "cell_type": "markdown",
   "metadata": {},
   "source": [
    "If you want to get a specific piece of information for many runs, you can tell straxen to fetch extra fields from the runs db with `scan_runs`:"
   ]
  },
  {
   "cell_type": "code",
   "execution_count": 8,
   "metadata": {},
   "outputs": [
    {
     "name": "stderr",
     "output_type": "stream",
     "text": [
      "Fetching run info from MongoDB: 100%|██████████| 26386/26386 [00:02<00:00, 10187.34it/s]\n",
      "Checking data availability: 100%|██████████| 5/5 [00:02<00:00,  1.97it/s]\n"
     ]
    }
   ],
   "source": [
    "st.scan_runs(store_fields='quality.hv.anode')\n",
    "dsets = st.select_runs(include_tags='sciencerun1')"
   ]
  },
  {
   "cell_type": "markdown",
   "metadata": {},
   "source": [
    "Now `dsets` has an extra column `quality__hv__anode` available that you can select on. We converted the dots (`.`) in the field name to double underscores (`__`) to ensure the column name remains a valid python identifier. Here's a histogram of the observed values:"
   ]
  },
  {
   "cell_type": "code",
   "execution_count": 9,
   "metadata": {},
   "outputs": [
    {
     "data": {
      "text/plain": [
       "Index(['end', 'mode', 'name', 'number', 'quality.hv.anode', 'reader.ini.name',\n",
       "       'start', 'tags', 'trigger.events_built', 'event_info_available',\n",
       "       'peaks_available', 'raw_records_available', 'records_available',\n",
       "       'events_available'],\n",
       "      dtype='object')"
      ]
     },
     "execution_count": 9,
     "metadata": {},
     "output_type": "execute_result"
    }
   ],
   "source": [
    "dsets.columns"
   ]
  },
  {
   "cell_type": "code",
   "execution_count": 10,
   "metadata": {},
   "outputs": [
    {
     "data": {
      "text/plain": [
       "Text(0, 0.5, 'Number of runs')"
      ]
     },
     "execution_count": 10,
     "metadata": {},
     "output_type": "execute_result"
    },
    {
     "data": {
      "image/png": "[encoded data removed]",
      "text/plain": [
       "<Figure size 432x288 with 1 Axes>"
      ]
     },
     "metadata": {},
     "output_type": "display_data"
    }
   ],
   "source": [
    "import matplotlib.pyplot as plt\n",
    "%matplotlib inline\n",
    "plt.hist(dsets['quality.hv.anode'], bins=20);\n",
    "plt.xlabel(\"Anode voltage (V)\")\n",
    "plt.ylabel(\"Number of runs\")"
   ]
  },
  {
   "cell_type": "markdown",
   "metadata": {},
   "source": [
    "Finally, if you want to do something truly custom, you can construct and run your own MongoDB query or aggregation. Here's a trivial example:"
   ]
  },
  {
   "cell_type": "code",
   "execution_count": 11,
   "metadata": {},
   "outputs": [
    {
     "data": {
      "text/plain": [
       "'170529_0510'"
      ]
     },
     "execution_count": 11,
     "metadata": {},
     "output_type": "execute_result"
    }
   ],
   "source": [
    "mongo_collection = st.storage[0].collection\n",
    "doc = mongo_collection.find_one({'number': 10000}, projection=['name'])\n",
    "doc['name']"
   ]
  }
 ],
 "metadata": {
  "kernelspec": {
   "display_name": "Python [default]",
   "language": "python",
   "name": "python3"
  },
  "language_info": {
   "codemirror_mode": {
    "name": "ipython",
    "version": 3
   },
   "file_extension": ".py",
   "mimetype": "text/x-python",
   "name": "python",
   "nbconvert_exporter": "python",
   "pygments_lexer": "ipython3",
   "version": "3.6.8"
  }
 },
 "nbformat": 4,
 "nbformat_minor": 2
}
